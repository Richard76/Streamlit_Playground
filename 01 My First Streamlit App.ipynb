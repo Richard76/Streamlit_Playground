{
  "nbformat": 4,
  "nbformat_minor": 5,
  "metadata": {
    "selected_hardware_size": "small",
    "noteable": {
      "last_transaction_id": "cc1f8b45-bde1-4ea1-b6ac-54370e572a1c"
    }
  },
  "cells": [
    {
      "id": "698a547b-a692-4e61-8e3d-bcdcab35cb6d",
      "cell_type": "code",
      "metadata": {
        "jupyter": {
          "outputs_hidden": false,
          "source_hidden": false
        },
        "noteable": {
          "cell_type": "code",
          "output_collection_id": "f7614701-5b02-4029-bb07-747f844d27cd"
        },
        "ExecuteTime": {
          "end_time": "2023-06-07T07:44:47.484833+00:00",
          "start_time": "2023-06-07T07:44:41.954650+00:00"
        }
      },
      "execution_count": null,
      "source": "pip install yfinance",
      "outputs": []
    },
    {
      "id": "ba0d450e",
      "cell_type": "code",
      "metadata": {
        "noteable": {
          "output_collection_id": "0a72a5b2-0d49-49b5-b30b-b0936808da7a"
        },
        "ExecuteTime": {
          "end_time": "2023-06-07T07:44:02.969695+00:00",
          "start_time": "2023-06-07T07:44:02.324459+00:00"
        },
        "jupyter": {
          "outputs_hidden": false,
          "source_hidden": false
        }
      },
      "execution_count": null,
      "source": "import yfinance as yf\nimport streamlit as st\n\nst.write(\"\"\"\n# Simple Stock Price App\n\nShown are the stock closing price and volume of Google!\n\n\"\"\")\n\n# https://towardsdatascience.com/how-to-get-stock-data-using-python-c0de1df17e75\n#define the ticker symbol\ntickerSymbol = 'GOOGL'\n#get data on this ticker\ntickerData = yf.Ticker(tickerSymbol)\n#get the historical prices for this ticker\ntickerDf = tickerData.history(period='1d', start='2010-5-31', end='2020-5-31')\n# Open\tHigh\tLow\tClose\tVolume\tDividends\tStock Splits\n\nst.line_chart(tickerDf.Close)\nst.line_chart(tickerDf.Volume)",
      "outputs": []
    }
  ]
}