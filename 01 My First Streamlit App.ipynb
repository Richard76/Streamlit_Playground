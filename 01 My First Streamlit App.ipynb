{
  "nbformat": 4,
  "nbformat_minor": 5,
  "metadata": {
    "selected_hardware_size": "small",
    "noteable": {
      "last_transaction_id": "78c8e2f8-85a2-41fd-9a98-1780925a32c6"
    }
  },
  "cells": [
    {
      "id": "78921ce0-6acd-4172-ada4-5d3ba143a3ca",
      "cell_type": "code",
      "metadata": {
        "jupyter": {
          "outputs_hidden": false,
          "source_hidden": false
        },
        "noteable": {
          "cell_type": "code",
          "output_collection_id": "390ce294-d102-41e5-891f-5167960919a3"
        },
        "ExecuteTime": {
          "end_time": "2023-06-07T07:46:36.660111+00:00",
          "start_time": "2023-06-07T07:46:31.694874+00:00"
        }
      },
      "execution_count": null,
      "source": "pip install yfinance",
      "outputs": []
    },
    {
      "id": "ba0d450e",
      "cell_type": "code",
      "metadata": {
        "noteable": {
          "output_collection_id": "4efc8417-20dc-4e4c-8db4-5904d8b355cc"
        },
        "ExecuteTime": {
          "end_time": "2023-06-07T07:46:09.000921+00:00",
          "start_time": "2023-06-07T07:46:08.367899+00:00"
        },
        "jupyter": {
          "outputs_hidden": false,
          "source_hidden": false
        }
      },
      "execution_count": null,
      "source": "import yfinance as yf\nimport streamlit as st\n\nst.write(\"\"\"\n# Simple Stock Price App\n\nShown are the stock closing price and volume of Google!\n\n\"\"\")\n\n# https://towardsdatascience.com/how-to-get-stock-data-using-python-c0de1df17e75\n#define the ticker symbol\ntickerSymbol = 'GOOGL'\n#get data on this ticker\ntickerData = yf.Ticker(tickerSymbol)\n#get the historical prices for this ticker\ntickerDf = tickerData.history(period='1d', start='2010-5-31', end='2020-5-31')\n# Open\tHigh\tLow\tClose\tVolume\tDividends\tStock Splits\n\nst.line_chart(tickerDf.Close)\nst.line_chart(tickerDf.Volume)",
      "outputs": []
    }
  ]
}