{
  "nbformat": 4,
  "nbformat_minor": 5,
  "metadata": {
    "selected_hardware_size": "small",
    "noteable": {
      "last_transaction_id": "22075e6d-518d-4e61-a494-1eb6d7c355f2"
    }
  },
  "cells": [
    {
      "id": "78921ce0-6acd-4172-ada4-5d3ba143a3ca",
      "cell_type": "code",
      "metadata": {
        "jupyter": {
          "outputs_hidden": false,
          "source_hidden": false
        },
        "noteable": {
          "cell_type": "code",
          "output_collection_id": "370b1896-cc4c-431a-9e77-303571aeac1f"
        },
        "ExecuteTime": {
          "end_time": "2023-06-07T07:46:36.660111+00:00",
          "start_time": "2023-06-07T07:46:31.694874+00:00"
        }
      },
      "execution_count": null,
      "source": "pip install yfinance",
      "outputs": []
    },
    {
      "id": "ba0d450e",
      "cell_type": "code",
      "metadata": {
        "noteable": {
          "output_collection_id": "f00866d2-8770-4ff1-96c4-a2fe48750ab5"
        },
        "ExecuteTime": {
          "end_time": "2023-06-07T07:47:38.669268+00:00",
          "start_time": "2023-06-07T07:47:38.057176+00:00"
        },
        "jupyter": {
          "outputs_hidden": false,
          "source_hidden": false
        }
      },
      "execution_count": null,
      "source": "import yfinance as yf\nimport streamlit as st\n\nst.write(\"\"\"\n# Simple Stock Price App\n\nShown are the stock closing price and volume of Google!\n\n\"\"\")\n\n# https://towardsdatascience.com/how-to-get-stock-data-using-python-c0de1df17e75\n#define the ticker symbol\ntickerSymbol = 'GOOGL'\n#get data on this ticker\ntickerData = yf.Ticker(tickerSymbol)\n#get the historical prices for this ticker\ntickerDf = tickerData.history(period='1d', start='2010-5-31', end='2020-5-31')\n# Open\tHigh\tLow\tClose\tVolume\tDividends\tStock Splits\n\nst.line_chart(tickerDf.Close)\nst.line_chart(tickerDf.Volume)",
      "outputs": []
    }
  ]
}