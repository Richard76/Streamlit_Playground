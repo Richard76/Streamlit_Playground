{
  "nbformat": 4,
  "nbformat_minor": 5,
  "metadata": {
    "noteable-chatgpt": {
      "create_notebook": {
        "openai_conversation_id": "2d687bb4-1bd7-5332-b576-2a5adbad3a9b",
        "openai_ephemeral_user_id": "d0d41500-f2a5-5e96-86a5-77f21e664b72",
        "openai_subdivision1_iso_code": "ID-BA"
      }
    },
    "noteable": {
      "last_transaction_id": "cab27983-166a-4f73-b22d-19ada4de78a9"
    },
    "selected_hardware_size": "small"
  },
  "cells": [
    {
      "id": "23270eb3-cd34-473d-8ce4-bd8a42d522f3",
      "cell_type": "code",
      "metadata": {
        "jupyter": {
          "outputs_hidden": false,
          "source_hidden": false
        },
        "noteable": {
          "cell_type": "code"
        }
      },
      "execution_count": null,
      "source": "",
      "outputs": []
    },
    {
      "id": "9e151dcb-641a-4516-b183-30d81c2c42e5",
      "cell_type": "code",
      "metadata": {
        "jupyter": {
          "outputs_hidden": false,
          "source_hidden": false
        },
        "noteable": {
          "cell_type": "code",
          "output_collection_id": "79b0f521-3465-47b8-91b0-4f11f507fbc0"
        },
        "ExecuteTime": {
          "end_time": "2023-06-07T07:50:07.441679+00:00",
          "start_time": "2023-06-07T07:49:59.897059+00:00"
        }
      },
      "execution_count": null,
      "source": "!pip install streamlit",
      "outputs": []
    }
  ]
}