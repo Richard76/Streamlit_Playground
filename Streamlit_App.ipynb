{
  "nbformat": 4,
  "nbformat_minor": 5,
  "metadata": {
    "noteable-chatgpt": {
      "create_notebook": {
        "openai_conversation_id": "2d687bb4-1bd7-5332-b576-2a5adbad3a9b",
        "openai_ephemeral_user_id": "d0d41500-f2a5-5e96-86a5-77f21e664b72",
        "openai_subdivision1_iso_code": "ID-BA"
      }
    }
  },
  "cells": []
}